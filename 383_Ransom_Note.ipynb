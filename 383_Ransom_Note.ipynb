{
  "nbformat": 4,
  "nbformat_minor": 0,
  "metadata": {
    "colab": {
      "provenance": [],
      "authorship_tag": "ABX9TyOnqDYwBm9aTxyb2kOdFmee",
      "include_colab_link": true
    },
    "kernelspec": {
      "name": "python3",
      "display_name": "Python 3"
    },
    "language_info": {
      "name": "python"
    }
  },
  "cells": [
    {
      "cell_type": "markdown",
      "metadata": {
        "id": "view-in-github",
        "colab_type": "text"
      },
      "source": [
        "<a href=\"https://colab.research.google.com/github/SamaSamrin/LeetCode_Practice/blob/main/383_Ransom_Note.ipynb\" target=\"_parent\"><img src=\"https://colab.research.google.com/assets/colab-badge.svg\" alt=\"Open In Colab\"/></a>"
      ]
    },
    {
      "cell_type": "markdown",
      "source": [
        "Given two strings ransomNote and magazine, return true if ransomNote can be constructed by using the letters from magazine, and false otherwise.\n",
        "\n",
        "Each letter in magazine can only be used once in ransomNote."
      ],
      "metadata": {
        "id": "unEaysP72aLq"
      }
    },
    {
      "cell_type": "code",
      "execution_count": 22,
      "metadata": {
        "id": "PX4posiQ2Rcg"
      },
      "outputs": [],
      "source": [
        "from collections import Counter\n",
        "\n",
        "class Solution(object):\n",
        "    def canConstruct(self, ransomNote, magazine):\n",
        "        \"\"\"\n",
        "        :type ransomNote: str\n",
        "        :type magazine: str\n",
        "        :rtype: bool\n",
        "        \"\"\"\n",
        "\n",
        "        mag_details = Counter(magazine)\n",
        "        print(mag_details)\n",
        "        note_details = Counter(ransomNote)\n",
        "        print(note_details)\n",
        "\n",
        "        for key in note_details.keys():\n",
        "          print(\"key:\", key)\n",
        "          if key not in mag_details.keys():\n",
        "            return False\n",
        "          elif note_details[key] > mag_details[key]:\n",
        "            return False\n",
        "\n",
        "        return True"
      ]
    },
    {
      "cell_type": "code",
      "source": [
        "ransomNote = \"aa\"\n",
        "magazine = \"ab\"\n",
        "\n",
        "x = Solution()\n",
        "\n",
        "x.canConstruct(ransomNote, magazine)"
      ],
      "metadata": {
        "colab": {
          "base_uri": "https://localhost:8080/"
        },
        "id": "HXZhk5ud2UFI",
        "outputId": "572e6396-9021-4376-b7ea-86bd4054d928"
      },
      "execution_count": 24,
      "outputs": [
        {
          "output_type": "stream",
          "name": "stdout",
          "text": [
            "Counter({'a': 1, 'b': 1})\n",
            "Counter({'a': 2})\n",
            "key: a\n"
          ]
        },
        {
          "output_type": "execute_result",
          "data": {
            "text/plain": [
              "False"
            ]
          },
          "metadata": {},
          "execution_count": 24
        }
      ]
    },
    {
      "cell_type": "code",
      "source": [
        "ransomNote = \"fihjjjjei\"\n",
        "magazine = \"hjibagacbhadfaefdjaeaebgi\"\n",
        "x.canConstruct(ransomNote, magazine)"
      ],
      "metadata": {
        "colab": {
          "base_uri": "https://localhost:8080/"
        },
        "id": "Tv_NF6QW5ubJ",
        "outputId": "a34d215d-a0e9-4ab3-9368-9a834d62efce"
      },
      "execution_count": 25,
      "outputs": [
        {
          "output_type": "stream",
          "name": "stdout",
          "text": [
            "Counter({'a': 6, 'b': 3, 'e': 3, 'h': 2, 'j': 2, 'i': 2, 'g': 2, 'd': 2, 'f': 2, 'c': 1})\n",
            "Counter({'j': 4, 'i': 2, 'f': 1, 'h': 1, 'e': 1})\n",
            "key: f\n",
            "key: i\n",
            "key: h\n",
            "key: j\n"
          ]
        },
        {
          "output_type": "execute_result",
          "data": {
            "text/plain": [
              "False"
            ]
          },
          "metadata": {},
          "execution_count": 25
        }
      ]
    },
    {
      "cell_type": "code",
      "source": [
        "ransomNote = \"a\"\n",
        "magazine = \"b\"\n",
        "x.canConstruct(ransomNote, magazine)"
      ],
      "metadata": {
        "colab": {
          "base_uri": "https://localhost:8080/"
        },
        "id": "uNuY7CX55TAh",
        "outputId": "46d7f660-1868-4ca3-f9e7-e28f21e52cdf"
      },
      "execution_count": 9,
      "outputs": [
        {
          "output_type": "execute_result",
          "data": {
            "text/plain": [
              "False"
            ]
          },
          "metadata": {},
          "execution_count": 9
        }
      ]
    },
    {
      "cell_type": "code",
      "source": [
        "ransomNote = \"aa\"\n",
        "magazine = \"aab\"\n",
        "x.canConstruct(ransomNote, magazine)"
      ],
      "metadata": {
        "colab": {
          "base_uri": "https://localhost:8080/"
        },
        "id": "EBGEqaHO5WIS",
        "outputId": "d7dfbe8f-c292-4914-f2f0-500f3f0981e3"
      },
      "execution_count": 10,
      "outputs": [
        {
          "output_type": "execute_result",
          "data": {
            "text/plain": [
              "True"
            ]
          },
          "metadata": {},
          "execution_count": 10
        }
      ]
    },
    {
      "cell_type": "code",
      "source": [
        "from collections import Counter\n",
        "\n",
        "mag_details = Counter(magazine)\n",
        "note_details = Counter(ransomNote)\n",
        "\n",
        "print(\"magazine\", mag_details)\n",
        "print(\"ransom note\", note_details)"
      ],
      "metadata": {
        "colab": {
          "base_uri": "https://localhost:8080/"
        },
        "id": "YvEOPOEJ3K-a",
        "outputId": "fa19cf2f-9dfa-4b6c-ffd5-554f9d81721e"
      },
      "execution_count": 18,
      "outputs": [
        {
          "output_type": "stream",
          "name": "stdout",
          "text": [
            "magazine Counter({'a': 6, 'b': 3, 'e': 3, 'h': 2, 'j': 2, 'i': 2, 'g': 2, 'd': 2, 'f': 2, 'c': 1})\n",
            "ransom note Counter({'j': 4, 'i': 2, 'f': 1, 'h': 1, 'e': 1})\n"
          ]
        }
      ]
    },
    {
      "cell_type": "markdown",
      "source": [
        "Memory : 11.90 MB [Beats 99.08% of users with Python]\n",
        "\n",
        "Runtime : 79 ms"
      ],
      "metadata": {
        "id": "PUfn7Y-270dv"
      }
    }
  ]
}