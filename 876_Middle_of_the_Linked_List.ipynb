{
  "nbformat": 4,
  "nbformat_minor": 0,
  "metadata": {
    "colab": {
      "provenance": [],
      "authorship_tag": "ABX9TyM/Qly2Xyq7cLxIEpbb+7Bv",
      "include_colab_link": true
    },
    "kernelspec": {
      "name": "python3",
      "display_name": "Python 3"
    },
    "language_info": {
      "name": "python"
    }
  },
  "cells": [
    {
      "cell_type": "markdown",
      "metadata": {
        "id": "view-in-github",
        "colab_type": "text"
      },
      "source": [
        "<a href=\"https://colab.research.google.com/github/SamaSamrin/LeetCode_Practice/blob/main/876_Middle_of_the_Linked_List.ipynb\" target=\"_parent\"><img src=\"https://colab.research.google.com/assets/colab-badge.svg\" alt=\"Open In Colab\"/></a>"
      ]
    },
    {
      "cell_type": "markdown",
      "source": [
        "# Solution with List, instead of Linked List"
      ],
      "metadata": {
        "id": "AZDn6cf-lfdq"
      }
    },
    {
      "cell_type": "code",
      "execution_count": 1,
      "metadata": {
        "id": "Km-cbwAYld_P"
      },
      "outputs": [],
      "source": [
        "class Solution(object):\n",
        "    def middleNode(self, head):\n",
        "        \"\"\"\n",
        "        :type head: ListNode\n",
        "        :rtype: ListNode\n",
        "        \"\"\"\n",
        "\n",
        "        return head[int(len(head)/2):]"
      ]
    },
    {
      "cell_type": "code",
      "source": [
        "head = [1,2,3,4,5,6]\n",
        "\n",
        "x = Solution()\n",
        "\n",
        "print(x.middleNode(head))"
      ],
      "metadata": {
        "colab": {
          "base_uri": "https://localhost:8080/"
        },
        "id": "D9T7UTxwXxHu",
        "outputId": "3f07fe0f-84b7-4346-e134-bd016b23443d"
      },
      "execution_count": 2,
      "outputs": [
        {
          "output_type": "stream",
          "name": "stdout",
          "text": [
            "[4, 5, 6]\n"
          ]
        }
      ]
    },
    {
      "cell_type": "code",
      "source": [
        "head = [1,2,3,4,5]\n",
        "\n",
        "x = Solution()\n",
        "\n",
        "print(x.middleNode(head))"
      ],
      "metadata": {
        "colab": {
          "base_uri": "https://localhost:8080/"
        },
        "id": "cRu0YYNhZxJ7",
        "outputId": "a6004a10-b068-45c9-affe-dc1a57231377"
      },
      "execution_count": 3,
      "outputs": [
        {
          "output_type": "stream",
          "name": "stdout",
          "text": [
            "[3, 4, 5]\n"
          ]
        }
      ]
    },
    {
      "cell_type": "code",
      "source": [
        "print(int(5/2))"
      ],
      "metadata": {
        "colab": {
          "base_uri": "https://localhost:8080/"
        },
        "id": "IIuQnn9JZXT8",
        "outputId": "039f5ee2-d2dc-4d21-8ebb-c69b8df23585"
      },
      "execution_count": null,
      "outputs": [
        {
          "output_type": "stream",
          "name": "stdout",
          "text": [
            "2\n"
          ]
        }
      ]
    },
    {
      "cell_type": "code",
      "source": [
        "head[3:]"
      ],
      "metadata": {
        "colab": {
          "base_uri": "https://localhost:8080/"
        },
        "id": "8SrMt2XHZg2-",
        "outputId": "d9983c7d-cf98-4d9c-e8a7-886164ea2c1d"
      },
      "execution_count": null,
      "outputs": [
        {
          "output_type": "execute_result",
          "data": {
            "text/plain": [
              "[4, 5, 6]"
            ]
          },
          "metadata": {},
          "execution_count": 12
        }
      ]
    },
    {
      "cell_type": "markdown",
      "source": [
        "# Failed Attempts"
      ],
      "metadata": {
        "id": "0waMjqB6iBtc"
      }
    },
    {
      "cell_type": "code",
      "source": [
        "# Definition for singly-linked list.\n",
        "# class ListNode(object):\n",
        "#     def __init__(self, x):\n",
        "#         self.val = x\n",
        "#         self.next = None"
      ],
      "metadata": {
        "id": "oDPiUUR2dB-h"
      },
      "execution_count": null,
      "outputs": []
    },
    {
      "cell_type": "code",
      "source": [
        "class ListNode(object):\n",
        "  def __init__(self, val, next):\n",
        "    self.val = val\n",
        "    self.next = next"
      ],
      "metadata": {
        "id": "AiSZQCkNfPf4"
      },
      "execution_count": 5,
      "outputs": []
    },
    {
      "cell_type": "code",
      "source": [
        "print(head.val)"
      ],
      "metadata": {
        "colab": {
          "base_uri": "https://localhost:8080/"
        },
        "id": "Gr8iqd5hdPP7",
        "outputId": "1168bac4-64f5-40df-d7ee-fb7a31cf5e01"
      },
      "execution_count": null,
      "outputs": [
        {
          "output_type": "stream",
          "name": "stdout",
          "text": [
            "1\n"
          ]
        }
      ]
    },
    {
      "cell_type": "code",
      "source": [
        "print(head.next.val)"
      ],
      "metadata": {
        "colab": {
          "base_uri": "https://localhost:8080/"
        },
        "id": "wju5kxBedlaS",
        "outputId": "52d3de13-7c0a-4c5f-da61-8451ae5b2370"
      },
      "execution_count": null,
      "outputs": [
        {
          "output_type": "stream",
          "name": "stdout",
          "text": [
            "2\n"
          ]
        }
      ]
    },
    {
      "cell_type": "code",
      "source": [
        "pointer = head\n",
        "print(pointer)"
      ],
      "metadata": {
        "colab": {
          "base_uri": "https://localhost:8080/"
        },
        "id": "cF8P69qTdwh0",
        "outputId": "aa173ce0-1040-4ceb-9e22-2f5ea5307810"
      },
      "execution_count": null,
      "outputs": [
        {
          "output_type": "stream",
          "name": "stdout",
          "text": [
            "<__main__.ListNode object at 0x78491183fbb0>\n"
          ]
        }
      ]
    },
    {
      "cell_type": "code",
      "source": [
        "data = [1,2,3,4,5]\n",
        "tail = head = ListNode(data[0])\n",
        "for x in data[1:]:\n",
        "    tail.next = ListNode(x) # Create and add another node\n",
        "    tail = tail.next # Move the tail pointer"
      ],
      "metadata": {
        "id": "j_tq5uidcPgC"
      },
      "execution_count": null,
      "outputs": []
    },
    {
      "cell_type": "code",
      "source": [
        "length = 1\n",
        "middle_list = ListNode(head.val)\n",
        "\n",
        "print(middle_list)"
      ],
      "metadata": {
        "colab": {
          "base_uri": "https://localhost:8080/"
        },
        "id": "Syenf10Kd4QK",
        "outputId": "8516c5e2-3926-4a33-d695-ddaa193788a4"
      },
      "execution_count": null,
      "outputs": [
        {
          "output_type": "stream",
          "name": "stdout",
          "text": [
            "<__main__.ListNode object at 0x78491183ee30>\n"
          ]
        }
      ]
    },
    {
      "cell_type": "code",
      "source": [
        "print(head.val)\n",
        "\n",
        "while head.next is not None:\n",
        "  #print(\"1st\", head.val)\n",
        "  length += 1\n",
        "  head = head.next\n",
        "  print(head.val)"
      ],
      "metadata": {
        "colab": {
          "base_uri": "https://localhost:8080/"
        },
        "id": "R3uEe91AelNT",
        "outputId": "78105140-43b9-4f32-bc93-bc1a5a9bf7b8"
      },
      "execution_count": null,
      "outputs": [
        {
          "output_type": "stream",
          "name": "stdout",
          "text": [
            "1\n",
            "2\n",
            "3\n",
            "4\n",
            "5\n"
          ]
        }
      ]
    },
    {
      "cell_type": "code",
      "source": [
        "print(length)"
      ],
      "metadata": {
        "colab": {
          "base_uri": "https://localhost:8080/"
        },
        "id": "-xoII8dTgb3p",
        "outputId": "05e13201-95dc-4d44-c29b-7f9ab2c98442"
      },
      "execution_count": null,
      "outputs": [
        {
          "output_type": "stream",
          "name": "stdout",
          "text": [
            "5\n"
          ]
        }
      ]
    },
    {
      "cell_type": "markdown",
      "source": [
        "## Fresh code"
      ],
      "metadata": {
        "id": "sn5LEV9ZhgwL"
      }
    },
    {
      "cell_type": "markdown",
      "source": [
        "ListNode Class"
      ],
      "metadata": {
        "id": "DENTSxzlhmbN"
      }
    },
    {
      "cell_type": "code",
      "source": [
        "class ListNode(object):\n",
        "  def __init__(self, val=0, next=None):\n",
        "    self.val = val\n",
        "    self.next = next"
      ],
      "metadata": {
        "id": "UwhGDnI2hios"
      },
      "execution_count": 15,
      "outputs": []
    },
    {
      "cell_type": "markdown",
      "source": [
        "Creating ListNode that will be given to us as argument"
      ],
      "metadata": {
        "id": "AFcDsZ9BhpeV"
      }
    },
    {
      "cell_type": "code",
      "source": [
        "data = [1,2,3,4,5]\n",
        "tail = head = ListNode(data[0])\n",
        "for x in data[1:]:\n",
        "    tail.next = ListNode(x) # Create and add another node\n",
        "    tail = tail.next # Move the tail pointer"
      ],
      "metadata": {
        "id": "h9Tfzkj2hvhI"
      },
      "execution_count": 9,
      "outputs": []
    },
    {
      "cell_type": "code",
      "source": [
        "print(head)"
      ],
      "metadata": {
        "colab": {
          "base_uri": "https://localhost:8080/"
        },
        "id": "b2Ig5T4zn6YO",
        "outputId": "f86e7160-6ed1-4d4f-df8e-e02e18f240b6"
      },
      "execution_count": 14,
      "outputs": [
        {
          "output_type": "stream",
          "name": "stdout",
          "text": [
            "<built-in function next>\n"
          ]
        }
      ]
    },
    {
      "cell_type": "markdown",
      "source": [
        "Solution Code"
      ],
      "metadata": {
        "id": "U2MS22HNhyG7"
      }
    },
    {
      "cell_type": "code",
      "source": [
        "length = 1\n",
        "middle_list = ListNode(head.val)\n",
        "temp_list = []"
      ],
      "metadata": {
        "id": "B6ZimOiXh4ey"
      },
      "execution_count": 10,
      "outputs": []
    },
    {
      "cell_type": "code",
      "source": [
        "print(head.val)\n",
        "temp_list.append(head.val)\n",
        "\n",
        "while head.next is not None:\n",
        "  #print(\"1st\", head.val)\n",
        "  length += 1\n",
        "  head = head.next\n",
        "  temp_list.append(head.val)\n",
        "  #print(head.val)"
      ],
      "metadata": {
        "id": "eX1smJLBh8HD",
        "colab": {
          "base_uri": "https://localhost:8080/",
          "height": 245
        },
        "outputId": "d575199e-8e08-4bf4-f8a7-c75f6ed459ba"
      },
      "execution_count": 12,
      "outputs": [
        {
          "output_type": "error",
          "ename": "AttributeError",
          "evalue": "'builtin_function_or_method' object has no attribute 'val'",
          "traceback": [
            "\u001b[0;31m---------------------------------------------------------------------------\u001b[0m",
            "\u001b[0;31mAttributeError\u001b[0m                            Traceback (most recent call last)",
            "\u001b[0;32m<ipython-input-12-09f4cd783579>\u001b[0m in \u001b[0;36m<cell line: 1>\u001b[0;34m()\u001b[0m\n\u001b[0;32m----> 1\u001b[0;31m \u001b[0mprint\u001b[0m\u001b[0;34m(\u001b[0m\u001b[0mhead\u001b[0m\u001b[0;34m.\u001b[0m\u001b[0mval\u001b[0m\u001b[0;34m)\u001b[0m\u001b[0;34m\u001b[0m\u001b[0;34m\u001b[0m\u001b[0m\n\u001b[0m\u001b[1;32m      2\u001b[0m \u001b[0mtemp_list\u001b[0m\u001b[0;34m.\u001b[0m\u001b[0mappend\u001b[0m\u001b[0;34m(\u001b[0m\u001b[0mhead\u001b[0m\u001b[0;34m.\u001b[0m\u001b[0mval\u001b[0m\u001b[0;34m)\u001b[0m\u001b[0;34m\u001b[0m\u001b[0;34m\u001b[0m\u001b[0m\n\u001b[1;32m      3\u001b[0m \u001b[0;34m\u001b[0m\u001b[0m\n\u001b[1;32m      4\u001b[0m \u001b[0;32mwhile\u001b[0m \u001b[0mhead\u001b[0m\u001b[0;34m.\u001b[0m\u001b[0mnext\u001b[0m \u001b[0;32mis\u001b[0m \u001b[0;32mnot\u001b[0m \u001b[0;32mNone\u001b[0m\u001b[0;34m:\u001b[0m\u001b[0;34m\u001b[0m\u001b[0;34m\u001b[0m\u001b[0m\n\u001b[1;32m      5\u001b[0m   \u001b[0;31m#print(\"1st\", head.val)\u001b[0m\u001b[0;34m\u001b[0m\u001b[0;34m\u001b[0m\u001b[0m\n",
            "\u001b[0;31mAttributeError\u001b[0m: 'builtin_function_or_method' object has no attribute 'val'"
          ]
        }
      ]
    },
    {
      "cell_type": "code",
      "source": [
        "print(length)\n",
        "print(temp_list)"
      ],
      "metadata": {
        "colab": {
          "base_uri": "https://localhost:8080/"
        },
        "id": "mIJugxS6ihWF",
        "outputId": "20556586-f424-46a8-de59-f758baf53d0d"
      },
      "execution_count": null,
      "outputs": [
        {
          "output_type": "stream",
          "name": "stdout",
          "text": [
            "5\n",
            "[1, 2, 3, 4, 5]\n"
          ]
        }
      ]
    },
    {
      "cell_type": "code",
      "source": [
        "# middle_index = 0\n",
        "\n",
        "        # if len(head)%2 == 0:\n",
        "        #   middle_index = int(len(head)/2)\n",
        "        #   print(\"even, middle index is\", middle_index)\n",
        "        # else:\n",
        "        #   middle_index = int(len(head)/2)\n",
        "        #   print(\"odd, middle index is\", middle_index)"
      ],
      "metadata": {
        "id": "h3cob_6PiOHY"
      },
      "execution_count": null,
      "outputs": []
    },
    {
      "cell_type": "code",
      "source": [
        "middle_index = int(len(temp_list)/2)\n",
        "print(middle_index)\n",
        "\n",
        "range_n = len(temp_list)-middle_index-1\n",
        "print(range_n)"
      ],
      "metadata": {
        "colab": {
          "base_uri": "https://localhost:8080/"
        },
        "id": "W5j24sJkklzc",
        "outputId": "fa7a97d0-b05b-4da5-c74c-0282d19bd909"
      },
      "execution_count": null,
      "outputs": [
        {
          "output_type": "stream",
          "name": "stdout",
          "text": [
            "2\n",
            "2\n"
          ]
        }
      ]
    },
    {
      "cell_type": "code",
      "source": [
        "middle_index = int(len(temp_list)/2)\n",
        "\n",
        "for i in range(middle_index, len(temp_list)):\n",
        "  middle_list.val = temp_list[i]\n",
        "  print(i, \":\", middle_list.val, \"=\", temp_list[i])\n",
        "  middle_list.next = ListNode()"
      ],
      "metadata": {
        "colab": {
          "base_uri": "https://localhost:8080/",
          "height": 245
        },
        "id": "9i52BOJkiIYH",
        "outputId": "7d40bbdc-6fd8-49ff-f4a6-483c0f9622da"
      },
      "execution_count": null,
      "outputs": [
        {
          "output_type": "error",
          "ename": "AttributeError",
          "evalue": "'NoneType' object has no attribute 'val'",
          "traceback": [
            "\u001b[0;31m---------------------------------------------------------------------------\u001b[0m",
            "\u001b[0;31mAttributeError\u001b[0m                            Traceback (most recent call last)",
            "\u001b[0;32m<ipython-input-94-0844fc135490>\u001b[0m in \u001b[0;36m<cell line: 3>\u001b[0;34m()\u001b[0m\n\u001b[1;32m      2\u001b[0m \u001b[0;34m\u001b[0m\u001b[0m\n\u001b[1;32m      3\u001b[0m \u001b[0;32mfor\u001b[0m \u001b[0mi\u001b[0m \u001b[0;32min\u001b[0m \u001b[0mrange\u001b[0m\u001b[0;34m(\u001b[0m\u001b[0mmiddle_index\u001b[0m\u001b[0;34m,\u001b[0m \u001b[0mlen\u001b[0m\u001b[0;34m(\u001b[0m\u001b[0mtemp_list\u001b[0m\u001b[0;34m)\u001b[0m\u001b[0;34m)\u001b[0m\u001b[0;34m:\u001b[0m\u001b[0;34m\u001b[0m\u001b[0;34m\u001b[0m\u001b[0m\n\u001b[0;32m----> 4\u001b[0;31m   \u001b[0mmiddle_list\u001b[0m\u001b[0;34m.\u001b[0m\u001b[0mval\u001b[0m \u001b[0;34m=\u001b[0m \u001b[0mtemp_list\u001b[0m\u001b[0;34m[\u001b[0m\u001b[0mi\u001b[0m\u001b[0;34m]\u001b[0m\u001b[0;34m\u001b[0m\u001b[0;34m\u001b[0m\u001b[0m\n\u001b[0m\u001b[1;32m      5\u001b[0m   \u001b[0mprint\u001b[0m\u001b[0;34m(\u001b[0m\u001b[0mi\u001b[0m\u001b[0;34m,\u001b[0m \u001b[0;34m\":\"\u001b[0m\u001b[0;34m,\u001b[0m \u001b[0mmiddle_list\u001b[0m\u001b[0;34m.\u001b[0m\u001b[0mval\u001b[0m\u001b[0;34m,\u001b[0m \u001b[0;34m\"=\"\u001b[0m\u001b[0;34m,\u001b[0m \u001b[0mtemp_list\u001b[0m\u001b[0;34m[\u001b[0m\u001b[0mi\u001b[0m\u001b[0;34m]\u001b[0m\u001b[0;34m)\u001b[0m\u001b[0;34m\u001b[0m\u001b[0;34m\u001b[0m\u001b[0m\n\u001b[1;32m      6\u001b[0m   \u001b[0mmiddle_list\u001b[0m\u001b[0;34m.\u001b[0m\u001b[0mnext\u001b[0m \u001b[0;34m=\u001b[0m \u001b[0mListNode\u001b[0m\u001b[0;34m(\u001b[0m\u001b[0;34m)\u001b[0m\u001b[0;34m\u001b[0m\u001b[0;34m\u001b[0m\u001b[0m\n",
            "\u001b[0;31mAttributeError\u001b[0m: 'NoneType' object has no attribute 'val'"
          ]
        }
      ]
    },
    {
      "cell_type": "code",
      "source": [
        "print(middle_list)"
      ],
      "metadata": {
        "colab": {
          "base_uri": "https://localhost:8080/"
        },
        "id": "hbTi0moFmzlV",
        "outputId": "4f6a9d0c-3deb-45ed-f4c2-78f18fc59523"
      },
      "execution_count": null,
      "outputs": [
        {
          "output_type": "stream",
          "name": "stdout",
          "text": [
            "<__main__.ListNode object at 0x78491183f4f0>\n"
          ]
        }
      ]
    },
    {
      "cell_type": "markdown",
      "source": [
        "## Again"
      ],
      "metadata": {
        "id": "PwStOyrxsEOb"
      }
    },
    {
      "cell_type": "code",
      "source": [
        "class LinkedList:\n",
        "    def __init__(self):\n",
        "        self.head = None"
      ],
      "metadata": {
        "id": "fp_V0deOtds9"
      },
      "execution_count": 29,
      "outputs": []
    },
    {
      "cell_type": "code",
      "source": [
        "class ListNode(object):\n",
        "  def __init__(self, val=0, next=None):\n",
        "    self.val = val\n",
        "    self.next = next"
      ],
      "metadata": {
        "id": "WQ3C7K0TsF2j"
      },
      "execution_count": 27,
      "outputs": []
    },
    {
      "cell_type": "code",
      "source": [
        "l_list_2 = LinkedList()\n",
        "l_list_2.head = ListNode(0)\n",
        "pointer = l_list_2.head\n",
        "\n",
        "for i in range(5):\n",
        "  l_list_2.head.next = ListNode(i+1)\n",
        "  print(l_list_2.head.val)\n",
        "  l_list_2.head = l_list_2.head.next"
      ],
      "metadata": {
        "colab": {
          "base_uri": "https://localhost:8080/"
        },
        "id": "Z4SplePMtj2-",
        "outputId": "e35ec32c-4544-4612-c3da-50444c0c5f88"
      },
      "execution_count": 43,
      "outputs": [
        {
          "output_type": "stream",
          "name": "stdout",
          "text": [
            "0\n",
            "1\n",
            "2\n",
            "3\n",
            "4\n"
          ]
        }
      ]
    },
    {
      "cell_type": "code",
      "source": [
        "class Solution(object):\n",
        "    def middleNode(self, head):\n",
        "        \"\"\"\n",
        "        :type head: ListNode\n",
        "        :rtype: ListNode\n",
        "        \"\"\"\n",
        "        print(\"function starts\")\n",
        "        print(head.next)\n",
        "\n",
        "        #finding length\n",
        "        length = 0\n",
        "        pointer = head\n",
        "        while pointer.next is not None:\n",
        "          print(pointer.val)\n",
        "          pointer = pointer.next\n",
        "          length += 1"
      ],
      "metadata": {
        "id": "IYWh1pQwtygy"
      },
      "execution_count": 44,
      "outputs": []
    },
    {
      "cell_type": "code",
      "source": [
        "x = Solution()\n",
        "\n",
        "x.middleNode(l_list_2.head)"
      ],
      "metadata": {
        "colab": {
          "base_uri": "https://localhost:8080/"
        },
        "id": "3wFmPefct2gM",
        "outputId": "b5baacd8-7da6-4b3e-92ba-4f75fa162195"
      },
      "execution_count": 45,
      "outputs": [
        {
          "output_type": "stream",
          "name": "stdout",
          "text": [
            "function starts\n",
            "None\n"
          ]
        }
      ]
    },
    {
      "cell_type": "markdown",
      "source": [
        "# Solution from other coders\n",
        "\n",
        "1st Solution use fast and slow pointers: fast pointer move 2 node as one step, while slow pointer move 1 node as one step. When the fast pointer reach the end, return slow. Run time O(L), space O(1)"
      ],
      "metadata": {
        "id": "F4is2BWP0dBp"
      }
    },
    {
      "cell_type": "code",
      "source": [
        "def middleNode(self, head: ListNode) -> ListNode:\n",
        "        slow = fast = head\n",
        "        while fast and fast.next:\n",
        "            slow = slow.next\n",
        "            fast = fast.next.next\n",
        "        return slow"
      ],
      "metadata": {
        "id": "cXNq0VV_0heb"
      },
      "execution_count": 46,
      "outputs": []
    }
  ]
}