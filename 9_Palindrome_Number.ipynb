{
  "nbformat": 4,
  "nbformat_minor": 0,
  "metadata": {
    "colab": {
      "provenance": [],
      "authorship_tag": "ABX9TyNHdghowFgxBOXu83I5UR1y",
      "include_colab_link": true
    },
    "kernelspec": {
      "name": "python3",
      "display_name": "Python 3"
    },
    "language_info": {
      "name": "python"
    }
  },
  "cells": [
    {
      "cell_type": "markdown",
      "metadata": {
        "id": "view-in-github",
        "colab_type": "text"
      },
      "source": [
        "<a href=\"https://colab.research.google.com/github/SamaSamrin/LeetCode_Practice/blob/main/9_Palindrome_Number.ipynb\" target=\"_parent\"><img src=\"https://colab.research.google.com/assets/colab-badge.svg\" alt=\"Open In Colab\"/></a>"
      ]
    },
    {
      "cell_type": "code",
      "execution_count": 41,
      "metadata": {
        "id": "M-baYbtFNB42"
      },
      "outputs": [],
      "source": [
        " def isPalindrome(x):\n",
        "  if x<0:\n",
        "    return False\n",
        "  input_as_string = str(x)\n",
        "  print(input_as_string)\n",
        "  input_length = len(input_as_string)\n",
        "  print(input_length)\n",
        "  if input_length==1:\n",
        "    return False\n",
        "  elif input_length==2:\n",
        "    if input_as_string[0]==input_as_string[1]:\n",
        "      return True\n",
        "    else:\n",
        "      return False\n",
        "  elif input_length%2==0:\n",
        "    print(\"number is even\")\n",
        "    for index in range(int(input_length/2)):\n",
        "      print(\"index is\", index)\n",
        "      print(input_as_string[index], input_as_string[input_length-index-1])\n",
        "      if(input_as_string[index]!=input_as_string[input_length-index-1]):\n",
        "        return False\n",
        "  else:\n",
        "    print(\"number is odd\")\n",
        "    for index in range(int(input_length/2)):\n",
        "      print(\"index is\", index)\n",
        "      print(input_as_string[index], input_as_string[input_length-index-1])\n",
        "      if(input_as_string[index]!=input_as_string[input_length-index-1]):\n",
        "        return False\n",
        "  return True"
      ]
    },
    {
      "cell_type": "code",
      "source": [
        "isPalindrome(1221)"
      ],
      "metadata": {
        "colab": {
          "base_uri": "https://localhost:8080/"
        },
        "id": "qByV-sSQ7v_G",
        "outputId": "1a34b6a1-dafd-460b-acd8-f75c00dea557"
      },
      "execution_count": 45,
      "outputs": [
        {
          "output_type": "stream",
          "name": "stdout",
          "text": [
            "1221\n",
            "4\n",
            "number is even\n",
            "index is 0\n",
            "1 1\n",
            "index is 1\n",
            "2 2\n"
          ]
        },
        {
          "output_type": "execute_result",
          "data": {
            "text/plain": [
              "True"
            ]
          },
          "metadata": {},
          "execution_count": 45
        }
      ]
    },
    {
      "cell_type": "code",
      "source": [
        "isPalindrome(-121)"
      ],
      "metadata": {
        "colab": {
          "base_uri": "https://localhost:8080/"
        },
        "id": "JuWxR4qy5GMj",
        "outputId": "2542d925-7d1d-42cf-934e-6122142beb5c"
      },
      "execution_count": 46,
      "outputs": [
        {
          "output_type": "execute_result",
          "data": {
            "text/plain": [
              "False"
            ]
          },
          "metadata": {},
          "execution_count": 46
        }
      ]
    },
    {
      "cell_type": "code",
      "source": [
        "isPalindrome(1)"
      ],
      "metadata": {
        "colab": {
          "base_uri": "https://localhost:8080/"
        },
        "id": "jbPRegQL9o7o",
        "outputId": "7f3fcdb8-db3e-46ce-a984-8d092aad4444"
      },
      "execution_count": 36,
      "outputs": [
        {
          "output_type": "stream",
          "name": "stdout",
          "text": [
            "1\n",
            "1\n"
          ]
        },
        {
          "output_type": "execute_result",
          "data": {
            "text/plain": [
              "False"
            ]
          },
          "metadata": {},
          "execution_count": 36
        }
      ]
    },
    {
      "cell_type": "code",
      "source": [
        "isPalindrome(10)"
      ],
      "metadata": {
        "colab": {
          "base_uri": "https://localhost:8080/"
        },
        "id": "9cr2Ee569saO",
        "outputId": "ec73c2ca-0c36-4871-eb51-040c7a31e3e9"
      },
      "execution_count": 37,
      "outputs": [
        {
          "output_type": "stream",
          "name": "stdout",
          "text": [
            "10\n",
            "2\n"
          ]
        },
        {
          "output_type": "execute_result",
          "data": {
            "text/plain": [
              "False"
            ]
          },
          "metadata": {},
          "execution_count": 37
        }
      ]
    },
    {
      "cell_type": "code",
      "source": [
        "isPalindrome(11)"
      ],
      "metadata": {
        "colab": {
          "base_uri": "https://localhost:8080/"
        },
        "id": "-W2sp5lW9umG",
        "outputId": "7af2729d-7778-4634-c810-02b127f6dd46"
      },
      "execution_count": 42,
      "outputs": [
        {
          "output_type": "stream",
          "name": "stdout",
          "text": [
            "11\n",
            "2\n"
          ]
        },
        {
          "output_type": "execute_result",
          "data": {
            "text/plain": [
              "True"
            ]
          },
          "metadata": {},
          "execution_count": 42
        }
      ]
    },
    {
      "cell_type": "code",
      "source": [
        "isPalindrome(121)"
      ],
      "metadata": {
        "colab": {
          "base_uri": "https://localhost:8080/"
        },
        "id": "xmj-mazv9-eK",
        "outputId": "c1e011df-66aa-4b8a-97bc-f647b65fa20a"
      },
      "execution_count": 44,
      "outputs": [
        {
          "output_type": "stream",
          "name": "stdout",
          "text": [
            "121\n",
            "3\n",
            "number is odd\n",
            "index is 0\n",
            "1 1\n"
          ]
        },
        {
          "output_type": "execute_result",
          "data": {
            "text/plain": [
              "True"
            ]
          },
          "metadata": {},
          "execution_count": 44
        }
      ]
    }
  ]
}