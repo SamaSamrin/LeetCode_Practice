{
  "nbformat": 4,
  "nbformat_minor": 0,
  "metadata": {
    "colab": {
      "provenance": [],
      "authorship_tag": "ABX9TyOWsH7KggPfLvgWKUqb6/Ba",
      "include_colab_link": true
    },
    "kernelspec": {
      "name": "python3",
      "display_name": "Python 3"
    },
    "language_info": {
      "name": "python"
    }
  },
  "cells": [
    {
      "cell_type": "markdown",
      "metadata": {
        "id": "view-in-github",
        "colab_type": "text"
      },
      "source": [
        "<a href=\"https://colab.research.google.com/github/SamaSamrin/LeetCode_Practice/blob/main/1672_Richest_Customer_Wealth.ipynb\" target=\"_parent\"><img src=\"https://colab.research.google.com/assets/colab-badge.svg\" alt=\"Open In Colab\"/></a>"
      ]
    },
    {
      "cell_type": "code",
      "source": [
        "class Solution(object):\n",
        "    def maximumWealth(self, accounts):\n",
        "        \"\"\"\n",
        "        :type accounts: List[List[int]]\n",
        "        :rtype: int\n",
        "        \"\"\"\n",
        "        #print(accounts)\n",
        "\n",
        "        max_customer_wealth = 0\n",
        "\n",
        "        for customer in range(len(accounts)):\n",
        "          #print(accounts[customer])\n",
        "          current_customer_wealth = 0\n",
        "          for bank in range(len(accounts[customer])):\n",
        "            current_customer_wealth += accounts[customer][bank]\n",
        "            #print(bank)\n",
        "            #print(current_customer_wealth)\n",
        "          if current_customer_wealth >= max_customer_wealth:\n",
        "            max_customer_wealth = current_customer_wealth\n",
        "\n",
        "        return max_customer_wealth"
      ],
      "metadata": {
        "id": "Wxy8BDMHr_dE"
      },
      "execution_count": 27,
      "outputs": []
    },
    {
      "cell_type": "code",
      "source": [
        "accounts = [[1,2,3],[3,2,1]]\n",
        "\n",
        "x = Solution()\n",
        "\n",
        "x.maximumWealth(accounts)"
      ],
      "metadata": {
        "colab": {
          "base_uri": "https://localhost:8080/"
        },
        "id": "tx5kyueI_ljv",
        "outputId": "dbcacd03-1ee7-4e73-f91a-d63134b61280"
      },
      "execution_count": 28,
      "outputs": [
        {
          "output_type": "execute_result",
          "data": {
            "text/plain": [
              "6"
            ]
          },
          "metadata": {},
          "execution_count": 28
        }
      ]
    },
    {
      "cell_type": "code",
      "source": [
        "accounts = [[1,5],[7,3],[3,5]]\n",
        "\n",
        "x.maximumWealth(accounts)"
      ],
      "metadata": {
        "colab": {
          "base_uri": "https://localhost:8080/"
        },
        "id": "KUaKKYtaC9Bc",
        "outputId": "b699ce05-8f81-45cf-e6a8-1f6178ae370f"
      },
      "execution_count": 29,
      "outputs": [
        {
          "output_type": "execute_result",
          "data": {
            "text/plain": [
              "10"
            ]
          },
          "metadata": {},
          "execution_count": 29
        }
      ]
    },
    {
      "cell_type": "code",
      "source": [
        "accounts = [[2,8,7],[7,1,3],[1,9,5]]\n",
        "\n",
        "x.maximumWealth(accounts)"
      ],
      "metadata": {
        "colab": {
          "base_uri": "https://localhost:8080/"
        },
        "id": "AGxs_dWQDElu",
        "outputId": "674cba38-6f57-4e75-e348-59e4b74c57d4"
      },
      "execution_count": 30,
      "outputs": [
        {
          "output_type": "execute_result",
          "data": {
            "text/plain": [
              "17"
            ]
          },
          "metadata": {},
          "execution_count": 30
        }
      ]
    }
  ]
}