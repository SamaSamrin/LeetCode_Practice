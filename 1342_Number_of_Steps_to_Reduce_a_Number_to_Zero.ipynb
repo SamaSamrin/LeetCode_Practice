{
  "nbformat": 4,
  "nbformat_minor": 0,
  "metadata": {
    "colab": {
      "provenance": [],
      "authorship_tag": "ABX9TyOaZwUphFr9v5dycSwHnJU+",
      "include_colab_link": true
    },
    "kernelspec": {
      "name": "python3",
      "display_name": "Python 3"
    },
    "language_info": {
      "name": "python"
    }
  },
  "cells": [
    {
      "cell_type": "markdown",
      "metadata": {
        "id": "view-in-github",
        "colab_type": "text"
      },
      "source": [
        "<a href=\"https://colab.research.google.com/github/SamaSamrin/LeetCode_Practice/blob/main/1342_Number_of_Steps_to_Reduce_a_Number_to_Zero.ipynb\" target=\"_parent\"><img src=\"https://colab.research.google.com/assets/colab-badge.svg\" alt=\"Open In Colab\"/></a>"
      ]
    },
    {
      "cell_type": "code",
      "execution_count": 1,
      "metadata": {
        "id": "VA05GLqjBQZo"
      },
      "outputs": [],
      "source": [
        "class Solution(object):\n",
        "    def numberOfSteps(self, num):\n",
        "        \"\"\"\n",
        "        :type num: int\n",
        "        :rtype: int\n",
        "        \"\"\"\n",
        "\n",
        "        step_number = 0\n",
        "\n",
        "        while num>0:\n",
        "          if num%2 == 0:\n",
        "            num = num/2\n",
        "            step_number += 1\n",
        "          else:\n",
        "            num = num - 1\n",
        "            step_number += 1\n",
        "          #print(\"num =\", num, \"step number =\", step_number)\n",
        "\n",
        "        return step_number\n",
        ""
      ]
    },
    {
      "cell_type": "code",
      "source": [
        "x = Solution()\n",
        "\n",
        "print(x.numberOfSteps(14))"
      ],
      "metadata": {
        "colab": {
          "base_uri": "https://localhost:8080/"
        },
        "id": "9uH9qhl1Bgh2",
        "outputId": "a75b5fce-852a-406f-c4ba-0e71473e047f"
      },
      "execution_count": 2,
      "outputs": [
        {
          "output_type": "stream",
          "name": "stdout",
          "text": [
            "num = 7.0 step number = 1\n",
            "num = 6.0 step number = 2\n",
            "num = 3.0 step number = 3\n",
            "num = 2.0 step number = 4\n",
            "num = 1.0 step number = 5\n",
            "num = 0.0 step number = 6\n",
            "6\n"
          ]
        }
      ]
    },
    {
      "cell_type": "code",
      "source": [
        "print(x.numberOfSteps(8))"
      ],
      "metadata": {
        "colab": {
          "base_uri": "https://localhost:8080/"
        },
        "outputId": "dc191fe5-8e85-40a0-d89f-9eda52f30b05",
        "id": "TSBiEh3oDDYF"
      },
      "execution_count": 3,
      "outputs": [
        {
          "output_type": "stream",
          "name": "stdout",
          "text": [
            "num = 4.0 step number = 1\n",
            "num = 2.0 step number = 2\n",
            "num = 1.0 step number = 3\n",
            "num = 0.0 step number = 4\n",
            "4\n"
          ]
        }
      ]
    },
    {
      "cell_type": "code",
      "source": [
        "print(x.numberOfSteps(123))"
      ],
      "metadata": {
        "colab": {
          "base_uri": "https://localhost:8080/"
        },
        "id": "qmxUk8ELDDLb",
        "outputId": "d31213ab-f00e-46d8-da84-538a3c57e98e"
      },
      "execution_count": 4,
      "outputs": [
        {
          "output_type": "stream",
          "name": "stdout",
          "text": [
            "num = 122 step number = 1\n",
            "num = 61.0 step number = 2\n",
            "num = 60.0 step number = 3\n",
            "num = 30.0 step number = 4\n",
            "num = 15.0 step number = 5\n",
            "num = 14.0 step number = 6\n",
            "num = 7.0 step number = 7\n",
            "num = 6.0 step number = 8\n",
            "num = 3.0 step number = 9\n",
            "num = 2.0 step number = 10\n",
            "num = 1.0 step number = 11\n",
            "num = 0.0 step number = 12\n",
            "12\n"
          ]
        }
      ]
    },
    {
      "cell_type": "markdown",
      "source": [
        "# Runtime: 8 ms, Memory: 13.28 MB"
      ],
      "metadata": {
        "id": "MCohftvKDuLI"
      }
    }
  ]
}