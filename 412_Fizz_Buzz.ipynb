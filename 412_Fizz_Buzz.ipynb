{
  "nbformat": 4,
  "nbformat_minor": 0,
  "metadata": {
    "colab": {
      "provenance": [],
      "authorship_tag": "ABX9TyOB40QqisnZbwAdZ+fpoI6Z",
      "include_colab_link": true
    },
    "kernelspec": {
      "name": "python3",
      "display_name": "Python 3"
    },
    "language_info": {
      "name": "python"
    }
  },
  "cells": [
    {
      "cell_type": "markdown",
      "metadata": {
        "id": "view-in-github",
        "colab_type": "text"
      },
      "source": [
        "<a href=\"https://colab.research.google.com/github/SamaSamrin/LeetCode_Practice/blob/main/412_Fizz_Buzz.ipynb\" target=\"_parent\"><img src=\"https://colab.research.google.com/assets/colab-badge.svg\" alt=\"Open In Colab\"/></a>"
      ]
    },
    {
      "cell_type": "markdown",
      "source": [
        "Given an integer n, return a string array answer (1-indexed) where:\n",
        "\n",
        "answer[i] == \"FizzBuzz\" if i is divisible by 3 and 5.\n",
        "\n",
        "answer[i] == \"Fizz\" if i is divisible by 3.\n",
        "\n",
        "answer[i] == \"Buzz\" if i is divisible by 5.\n",
        "\n",
        "answer[i] == i (as a string) if none of the above conditions are true."
      ],
      "metadata": {
        "id": "791O7mRuEN7V"
      }
    },
    {
      "cell_type": "code",
      "execution_count": 19,
      "metadata": {
        "id": "69oYr_BiD3pc"
      },
      "outputs": [],
      "source": [
        "class Solution(object):\n",
        "    def fizzBuzz(self, n):\n",
        "        \"\"\"\n",
        "        :type n: int\n",
        "        :rtype: List[str]\n",
        "        \"\"\"\n",
        "        answer = [\"\"] *n\n",
        "\n",
        "        for i in range(n):\n",
        "          #print(i)\n",
        "          if ((i+1)%3 == 0) & ((i+1)%5 == 0):\n",
        "            answer[i] = \"FizzBuzz\"\n",
        "          elif (i+1)%5 == 0:\n",
        "            answer[i] = \"Buzz\"\n",
        "          elif (i+1)%3 == 0:\n",
        "            answer[i] = \"Fizz\"\n",
        "          else:\n",
        "            answer[i] = str(i+1)\n",
        "\n",
        "        return answer"
      ]
    },
    {
      "cell_type": "code",
      "source": [
        "x = Solution()\n",
        "\n",
        "print(x.fizzBuzz(3))"
      ],
      "metadata": {
        "colab": {
          "base_uri": "https://localhost:8080/"
        },
        "id": "ejZ249uzEgtj",
        "outputId": "6b5d0399-55ad-4158-d5de-c62ba3a8a065"
      },
      "execution_count": 20,
      "outputs": [
        {
          "output_type": "stream",
          "name": "stdout",
          "text": [
            "['1', '2', 'Fizz']\n"
          ]
        }
      ]
    },
    {
      "cell_type": "code",
      "source": [
        "print(x.fizzBuzz(5))"
      ],
      "metadata": {
        "colab": {
          "base_uri": "https://localhost:8080/"
        },
        "id": "6c7_X6kvHFCk",
        "outputId": "7de092e2-fd3b-49c6-ebe8-5a4ed3d37bac"
      },
      "execution_count": 21,
      "outputs": [
        {
          "output_type": "stream",
          "name": "stdout",
          "text": [
            "['1', '2', 'Fizz', '4', 'Buzz']\n"
          ]
        }
      ]
    },
    {
      "cell_type": "code",
      "source": [
        "print(x.fizzBuzz(15))"
      ],
      "metadata": {
        "colab": {
          "base_uri": "https://localhost:8080/"
        },
        "id": "2d06IAnOHJ91",
        "outputId": "e6f98e0e-69c5-4a13-8981-3121a95484e5"
      },
      "execution_count": 22,
      "outputs": [
        {
          "output_type": "stream",
          "name": "stdout",
          "text": [
            "['1', '2', 'Fizz', '4', 'Buzz', 'Fizz', '7', '8', 'Fizz', 'Buzz', '11', 'Fizz', '13', '14', 'FizzBuzz']\n"
          ]
        }
      ]
    },
    {
      "cell_type": "markdown",
      "source": [
        "#Runtime: 21ms\n",
        "#Memory: 14.29 MB"
      ],
      "metadata": {
        "id": "M-Zx3iAhHfZy"
      }
    }
  ]
}